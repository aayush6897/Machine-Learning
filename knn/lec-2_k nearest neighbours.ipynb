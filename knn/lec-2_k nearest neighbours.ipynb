{
 "cells": [
  {
   "cell_type": "code",
   "execution_count": 23,
   "metadata": {
    "collapsed": true
   },
   "outputs": [],
   "source": [
    "import numpy as np\n",
    "from matplotlib import pyplot as plt\n",
    "%matplotlib inline"
   ]
  },
  {
   "cell_type": "code",
   "execution_count": 24,
   "metadata": {},
   "outputs": [
    {
     "name": "stdout",
     "output_type": "stream",
     "text": [
      "(500, 2)\n",
      "[[ 0.96641117  0.03562041]\n",
      " [ 0.03562041  1.18039653]]\n"
     ]
    },
    {
     "name": "stderr",
     "output_type": "stream",
     "text": [
      "/home/aayush/.local/lib/python3.5/site-packages/ipykernel_launcher.py:7: RuntimeWarning: covariance is not positive-semidefinite.\n",
      "  import sys\n"
     ]
    }
   ],
   "source": [
    "mean_01=np.array([1,1])\n",
    "cov_01=np.array([[1,0.1],[0,1.2]])\n",
    "\n",
    "mean_02=np.array([5,5])\n",
    "cov_02=np.array([[1,0.1],[0.1,1.2]])\n",
    "\n",
    "dist_01=np.random.multivariate_normal(mean_01,cov_01,500)\n",
    "\n",
    "dist_02=np.random.multivariate_normal(mean_02,cov_02,500)\n",
    "print(dist_01.shape)\n",
    "print(np.cov(dist_01.T))"
   ]
  },
  {
   "cell_type": "code",
   "execution_count": 25,
   "metadata": {},
   "outputs": [
    {
     "data": {
      "image/png": "[encoded data removed]",
      "text/plain": [
       "<matplotlib.figure.Figure at 0x7f36e55d74e0>"
      ]
     },
     "metadata": {},
     "output_type": "display_data"
    }
   ],
   "source": [
    "plt.figure(0)\n",
    "plt.xlim(-5,10)\n",
    "plt.ylim(-5,10)\n",
    "plt.scatter(dist_01[:,0],dist_01[:,1],color='orange')\n",
    "plt.scatter(dist_02[:,0],dist_02[:,1],color='red')\n",
    "plt.show()"
   ]
  },
  {
   "cell_type": "code",
   "execution_count": 26,
   "metadata": {},
   "outputs": [
    {
     "name": "stdout",
     "output_type": "stream",
     "text": [
      "(1000, 3)\n",
      "[[ 1.63927737  2.18071398  0.        ]\n",
      " [ 2.5661472   0.4471958   0.        ]\n",
      " [ 0.14404949  2.71316308  0.        ]\n",
      " ..., \n",
      " [ 6.03430794  5.02509898  1.        ]\n",
      " [ 4.51002903  2.88127267  1.        ]\n",
      " [ 5.33659926  7.62177877  1.        ]]\n",
      "[ 2.96705733  3.02811279  0.5       ]\n"
     ]
    }
   ],
   "source": [
    "r=dist_01.shape[0]+dist_02.shape[0]\n",
    "c=dist_01.shape[1]+1\n",
    "data=np.zeros((r,c))\n",
    "print(data.shape)\n",
    "data[:dist_01.shape[0],:2]=dist_01\n",
    "data[dist_01.shape[0]:,:2]=dist_02\n",
    "data[dist_01.shape[0]:,-1]=1.0\n",
    "print(data)\n",
    "print(data.mean(axis=0))"
   ]
  },
  {
   "cell_type": "code",
   "execution_count": 27,
   "metadata": {},
   "outputs": [
    {
     "name": "stdout",
     "output_type": "stream",
     "text": [
      "[[ 5.7161793   4.91648739  1.        ]\n",
      " [ 2.78335243  3.37245104  0.        ]\n",
      " [ 5.35845783  6.95363485  1.        ]\n",
      " [ 0.83421439  1.55687626  0.        ]\n",
      " [ 6.12204399  4.37580136  1.        ]\n",
      " [ 2.20682941  1.36407492  0.        ]\n",
      " [ 1.28421117  2.99896354  0.        ]\n",
      " [ 0.07792562  2.37007592  0.        ]\n",
      " [ 1.25991504  0.66518217  0.        ]\n",
      " [ 1.70754625  1.03149924  0.        ]]\n"
     ]
    }
   ],
   "source": [
    "np.random.shuffle(data)\n",
    "print(data[0:10])"
   ]
  },
  {
   "cell_type": "code",
   "execution_count": 28,
   "metadata": {
    "collapsed": true
   },
   "outputs": [],
   "source": [
    "def distance(x1,x2):\n",
    "    d=np.sqrt(((x1-x2)**2).sum())\n",
    "    return d\n",
    "def knn(X_train,Y_train,xt,k=5):\n",
    "    vals=[]\n",
    "    for ix in range(X_train.shape[0]):\n",
    "        d=distance(X_train[ix],xt)\n",
    "        vals.append([d,Y_train[ix]])\n",
    "    sorted_labels=sorted(vals,key=lambda z: z[0])\n",
    "    neighbours=np.asarray(sorted_labels)[:k,-1]\n",
    "    freq=np.unique(neighbours,return_counts=True)\n",
    "    return freq[0][freq[1].argmax()]"
   ]
  },
  {
   "cell_type": "code",
   "execution_count": 29,
   "metadata": {},
   "outputs": [
    {
     "name": "stdout",
     "output_type": "stream",
     "text": [
      "0.0\n"
     ]
    }
   ],
   "source": [
    "test_point=np.array([3,2])\n",
    "\n",
    "print(knn(data[:,:2],data[:,-1],test_point))"
   ]
  },
  {
   "cell_type": "code",
   "execution_count": 30,
   "metadata": {},
   "outputs": [
    {
     "name": "stdout",
     "output_type": "stream",
     "text": [
      "(800, 2) (800,)\n",
      "(200, 2) (200,)\n"
     ]
    }
   ],
   "source": [
    "split=int(.8*data.shape[0])\n",
    "\n",
    "train_data_X=data[:split,:2]\n",
    "train_data_Y=data[:split,-1]\n",
    "test_data_X=data[split:,:2]\n",
    "test_data_Y=data[split:,-1]\n",
    "\n",
    "print(train_data_X.shape,train_data_Y.shape)\n",
    "print(test_data_X.shape,test_data_Y.shape)"
   ]
  },
  {
   "cell_type": "code",
   "execution_count": 31,
   "metadata": {
    "scrolled": true
   },
   "outputs": [
    {
     "name": "stdout",
     "output_type": "stream",
     "text": [
      "(200,)\n"
     ]
    }
   ],
   "source": [
    "preds=[]\n",
    "\n",
    "for ix in range(test_data_X.shape[0]):\n",
    "    preds.append(knn(train_data_X,train_data_Y,test_data_X[ix]))\n",
    "preds=np.asarray(preds)\n",
    "\n",
    "print(preds.shape)"
   ]
  },
  {
   "cell_type": "code",
   "execution_count": 32,
   "metadata": {},
   "outputs": [
    {
     "data": {
      "text/plain": [
       "100.0"
      ]
     },
     "execution_count": 32,
     "metadata": {},
     "output_type": "execute_result"
    }
   ],
   "source": [
    "100*float((test_data_Y == preds).sum())/preds.shape[0]"
   ]
  },
  {
   "cell_type": "code",
   "execution_count": null,
   "metadata": {
    "collapsed": true
   },
   "outputs": [],
   "source": []
  },
  {
   "cell_type": "code",
   "execution_count": null,
   "metadata": {
    "collapsed": true
   },
   "outputs": [],
   "source": []
  },
  {
   "cell_type": "code",
   "execution_count": null,
   "metadata": {
    "collapsed": true
   },
   "outputs": [],
   "source": []
  },
  {
   "cell_type": "code",
   "execution_count": null,
   "metadata": {
    "collapsed": true
   },
   "outputs": [],
   "source": []
  },
  {
   "cell_type": "code",
   "execution_count": null,
   "metadata": {
    "collapsed": true
   },
   "outputs": [],
   "source": []
  },
  {
   "cell_type": "code",
   "execution_count": null,
   "metadata": {
    "collapsed": true
   },
   "outputs": [],
   "source": []
  },
  {
   "cell_type": "code",
   "execution_count": null,
   "metadata": {
    "collapsed": true
   },
   "outputs": [],
   "source": []
  }
 ],
 "metadata": {
  "kernelspec": {
   "display_name": "Python 3",
   "language": "python",
   "name": "python3"
  },
  "language_info": {
   "codemirror_mode": {
    "name": "ipython",
    "version": 3
   },
   "file_extension": ".py",
   "mimetype": "text/x-python",
   "name": "python",
   "nbconvert_exporter": "python",
   "pygments_lexer": "ipython3",
   "version": "3.5.2"
  }
 },
 "nbformat": 4,
 "nbformat_minor": 2
}
