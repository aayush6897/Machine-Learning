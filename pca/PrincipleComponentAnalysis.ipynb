{
 "cells": [
  {
   "cell_type": "code",
   "execution_count": 2,
   "metadata": {
    "collapsed": true
   },
   "outputs": [],
   "source": [
    "import numpy as np\n",
    "from sklearn.datasets import load_iris\n",
    "from matplotlib import pyplot as plt\n",
    "%matplotlib inline\n",
    "import pandas as pd\n",
    "import seaborn as sns"
   ]
  },
  {
   "cell_type": "code",
   "execution_count": 35,
   "metadata": {
    "collapsed": true
   },
   "outputs": [],
   "source": [
    "data=pd.read_csv('train.csv')\n",
    "data=data[:1000]"
   ]
  },
  {
   "cell_type": "code",
   "execution_count": 36,
   "metadata": {},
   "outputs": [
    {
     "name": "stdout",
     "output_type": "stream",
     "text": [
      "(100, 784)\n"
     ]
    }
   ],
   "source": [
    "print(xt.shape)"
   ]
  },
  {
   "cell_type": "code",
   "execution_count": 45,
   "metadata": {},
   "outputs": [],
   "source": [
    "xd=data.values[:,1:]\n",
    "yd=data.values[:,0]\n",
    "xtrain=xd[:900,:]\n",
    "ytrain=yd[:900]\n",
    "xtest=xd[900:,:]\n",
    "ytest=xd[900:]"
   ]
  },
  {
   "cell_type": "code",
   "execution_count": 5,
   "metadata": {
    "collapsed": true
   },
   "outputs": [],
   "source": [
    "A=np.cov(xd.T)"
   ]
  },
  {
   "cell_type": "code",
   "execution_count": 6,
   "metadata": {
    "scrolled": true
   },
   "outputs": [
    {
     "name": "stdout",
     "output_type": "stream",
     "text": [
      "784 (784, 784)\n"
     ]
    }
   ],
   "source": [
    "eig_vals, eig_vecs = np.linalg.eig(A)\n",
    "print (eig_vals.shape[0],eig_vecs.shape)"
   ]
  },
  {
   "cell_type": "code",
   "execution_count": 7,
   "metadata": {},
   "outputs": [
    {
     "name": "stdout",
     "output_type": "stream",
     "text": [
      "784\n"
     ]
    }
   ],
   "source": [
    "inf=[]\n",
    "for i in range(eig_vals.shape[0]):\n",
    "    dx=[eig_vals[i],eig_vecs[:,i]]\n",
    "    inf.append(dx)\n",
    "print(len(inf))"
   ]
  },
  {
   "cell_type": "code",
   "execution_count": 8,
   "metadata": {
    "collapsed": true
   },
   "outputs": [],
   "source": [
    "sinf=sorted(inf,key=lambda x:x[0],reverse=True)"
   ]
  },
  {
   "cell_type": "code",
   "execution_count": 9,
   "metadata": {},
   "outputs": [
    {
     "name": "stderr",
     "output_type": "stream",
     "text": [
      "/home/aayush/.local/lib/python3.5/site-packages/numpy/core/numeric.py:531: ComplexWarning: Casting complex values to real discards the imaginary part\n",
      "  return array(a, dtype, copy=False, order=order)\n"
     ]
    },
    {
     "data": {
      "image/png": "[encoded data removed]",
      "text/plain": [
       "<matplotlib.figure.Figure at 0x7f6bfea81e10>"
      ]
     },
     "metadata": {},
     "output_type": "display_data"
    }
   ],
   "source": [
    "s_eigval=[]\n",
    "s_eigvec=[]\n",
    "for i in range(len(sinf)):\n",
    "    s_eigval.append(sinf[i][0])\n",
    "    s_eigvec.append(sinf[i][1])\n",
    "s_eigval=np.asarray(s_eigval)\n",
    "s_eigvec=np.asarray(s_eigvec)\n",
    "plt.figure(0)\n",
    "plt.plot(s_eigval)\n",
    "plt.show()"
   ]
  },
  {
   "cell_type": "code",
   "execution_count": 10,
   "metadata": {},
   "outputs": [
    {
     "name": "stdout",
     "output_type": "stream",
     "text": [
      "[ 0.09984479 +8.97231543e-38j  0.17537606 +1.57597541e-37j\n",
      "  0.23560051 +2.11716819e-37j  0.29044176 +2.60998609e-37j\n",
      "  0.33736323 +3.03163476e-37j  0.38206562 +3.43334216e-37j\n",
      "  0.41459895 +3.72569519e-37j  0.44355950 +3.98594238e-37j\n",
      "  0.47115508 +4.23392352e-37j  0.49553409 +4.45299967e-37j]\n"
     ]
    },
    {
     "name": "stderr",
     "output_type": "stream",
     "text": [
      "/home/aayush/.local/lib/python3.5/site-packages/numpy/core/numeric.py:531: ComplexWarning: Casting complex values to real discards the imaginary part\n",
      "  return array(a, dtype, copy=False, order=order)\n"
     ]
    },
    {
     "data": {
      "image/png": "[encoded data removed]",
      "text/plain": [
       "<matplotlib.figure.Figure at 0x7f6bfea81550>"
      ]
     },
     "metadata": {},
     "output_type": "display_data"
    }
   ],
   "source": [
    "cumsum=np.cumsum((s_eigval/s_eigval.sum()))\n",
    "print(cumsum[:10])\n",
    "plt.figure(0)\n",
    "plt.plot(cumsum)\n",
    "plt.show()"
   ]
  },
  {
   "cell_type": "code",
   "execution_count": 11,
   "metadata": {},
   "outputs": [
    {
     "name": "stdout",
     "output_type": "stream",
     "text": [
      "277\n"
     ]
    }
   ],
   "source": [
    "for i in range(cumsum.shape[0]):\n",
    "    if cumsum[i]>=0.99:\n",
    "        print(i)\n",
    "        break"
   ]
  },
  {
   "cell_type": "code",
   "execution_count": 43,
   "metadata": {
    "scrolled": true
   },
   "outputs": [
    {
     "name": "stdout",
     "output_type": "stream",
     "text": [
      "(1000, 277)\n"
     ]
    }
   ],
   "source": [
    "k=i\n",
    "eig_vecs=s_eigvec[:,:k]\n",
    "datab=xd.dot(eig_vecs)\n",
    "xte=datab[900:,:]\n",
    "xtr=datab[:900,:]\n",
    "\n",
    "ytr=yd[:900]\n",
    "yte=yd[900:]\n",
    "databack=datab.dot(eig_vecs.T)\n",
    "print(datab.shape)"
   ]
  },
  {
   "cell_type": "code",
   "execution_count": 25,
   "metadata": {
    "collapsed": true
   },
   "outputs": [],
   "source": [
    "from sklearn.neighbors import KNeighborsClassifier"
   ]
  },
  {
   "cell_type": "code",
   "execution_count": 27,
   "metadata": {
    "collapsed": true
   },
   "outputs": [],
   "source": [
    "neigh = KNeighborsClassifier(n_neighbors=3)\n",
    "nei= KNeighborsClassifier(n_neighbors=3)"
   ]
  },
  {
   "cell_type": "code",
   "execution_count": 47,
   "metadata": {},
   "outputs": [
    {
     "name": "stderr",
     "output_type": "stream",
     "text": [
      "/home/aayush/.local/lib/python3.5/site-packages/numpy/core/numeric.py:531: ComplexWarning: Casting complex values to real discards the imaginary part\n",
      "  return array(a, dtype, copy=False, order=order)\n"
     ]
    },
    {
     "data": {
      "text/plain": [
       "KNeighborsClassifier(algorithm='auto', leaf_size=30, metric='minkowski',\n",
       "           metric_params=None, n_jobs=1, n_neighbors=3, p=2,\n",
       "           weights='uniform')"
      ]
     },
     "execution_count": 47,
     "metadata": {},
     "output_type": "execute_result"
    }
   ],
   "source": [
    "neigh.fit(xtrain, ytrain)\n",
    "nei.fit(xtr,ytr)"
   ]
  },
  {
   "cell_type": "code",
   "execution_count": 52,
   "metadata": {},
   "outputs": [
    {
     "name": "stdout",
     "output_type": "stream",
     "text": [
      "91.0\n"
     ]
    },
    {
     "name": "stderr",
     "output_type": "stream",
     "text": [
      "/home/aayush/.local/lib/python3.5/site-packages/sklearn/utils/validation.py:382: ComplexWarning: Casting complex values to real discards the imaginary part\n",
      "  array = np.array(array, dtype=dtype, order=order, copy=copy)\n"
     ]
    }
   ],
   "source": [
    "ori=neigh.predict(xtest)\n",
    "red=nei.predict(xte)\n",
    "print(100*float((ori== red).sum())/100)"
   ]
  },
  {
   "cell_type": "markdown",
   "metadata": {},
   "source": [
    "# reconstruction of data"
   ]
  },
  {
   "cell_type": "code",
   "execution_count": 13,
   "metadata": {},
   "outputs": [
    {
     "name": "stderr",
     "output_type": "stream",
     "text": [
      "/home/aayush/.local/lib/python3.5/site-packages/numpy/core/numeric.py:531: ComplexWarning: Casting complex values to real discards the imaginary part\n",
      "  return array(a, dtype, copy=False, order=order)\n"
     ]
    },
    {
     "data": {
      "image/png": "[encoded data removed]",
      "text/plain": [
       "<matplotlib.figure.Figure at 0x7f6bfe9aa320>"
      ]
     },
     "metadata": {},
     "output_type": "display_data"
    },
    {
     "data": {
      "image/png": "[encoded data removed]",
      "text/plain": [
       "<matplotlib.figure.Figure at 0x7f6bfe8f3dd8>"
      ]
     },
     "metadata": {},
     "output_type": "display_data"
    }
   ],
   "source": [
    "n=8\n",
    "\n",
    "plt.figure(0)\n",
    "plt.grid(\"off\")\n",
    "im = (databack[n]>0) * databack[n]\n",
    "plt.imshow(np.asarray(im.reshape((28, 28)), dtype='uint8'), cmap='gray')\n",
    "plt.show()\n",
    "\n",
    "plt.figure(1)\n",
    "plt.grid(\"off\")\n",
    "#im = (databack[n]>0) * databack[n]\n",
    "plt.imshow(xd[n].reshape((28,28)), cmap='gray')\n",
    "plt.show()\n"
   ]
  },
  {
   "cell_type": "markdown",
   "metadata": {},
   "source": [
    "# pca from sklearn"
   ]
  },
  {
   "cell_type": "code",
   "execution_count": 14,
   "metadata": {
    "collapsed": true
   },
   "outputs": [],
   "source": [
    "from sklearn.decomposition import PCA"
   ]
  },
  {
   "cell_type": "code",
   "execution_count": 15,
   "metadata": {
    "collapsed": true
   },
   "outputs": [],
   "source": [
    "pca = PCA()"
   ]
  },
  {
   "cell_type": "code",
   "execution_count": 22,
   "metadata": {},
   "outputs": [
    {
     "data": {
      "image/png": "[encoded data removed]",
      "text/plain": [
       "<matplotlib.figure.Figure at 0x7f6bea299b00>"
      ]
     },
     "metadata": {},
     "output_type": "display_data"
    },
    {
     "name": "stdout",
     "output_type": "stream",
     "text": [
      "(1000, 784)\n"
     ]
    }
   ],
   "source": [
    "plt.figure(0)\n",
    "plt.grid(\"off\")\n",
    "#im = (databack[n]>0) * databack[n]\n",
    "plt.imshow(xd[n].reshape((28,28)))\n",
    "plt.show()\n",
    "print(xd.shape)"
   ]
  },
  {
   "cell_type": "code",
   "execution_count": 23,
   "metadata": {},
   "outputs": [
    {
     "data": {
      "text/plain": [
       "array([[ -6.29409404e+02,   7.30392466e+02,  -1.99311780e+02, ...,\n",
       "         -0.00000000e+00,   0.00000000e+00,  -0.00000000e+00],\n",
       "       [  1.73573028e+03,   3.22274277e+02,   7.68686450e+02, ...,\n",
       "         -9.68484347e-16,   5.50566816e-15,   6.16422121e-15],\n",
       "       [ -8.41009353e+02,   3.02774107e+02,  -6.66948384e+01, ...,\n",
       "          1.82822223e-15,   1.58656293e-14,   1.50385536e-15],\n",
       "       ..., \n",
       "       [ -5.40155483e+02,  -8.02483746e+02,   3.01007574e+02, ...,\n",
       "         -4.94873443e-15,   2.17216723e-15,   1.32481068e-14],\n",
       "       [  2.90927380e+02,   2.53810666e+02,  -6.94905077e+02, ...,\n",
       "          9.83654572e-15,   3.48806953e-16,   4.34286184e-15],\n",
       "       [ -4.37235399e+02,  -2.44066918e+02,   5.33842043e+02, ...,\n",
       "          1.93203894e-14,  -5.99761441e-15,   6.00887334e-16]])"
      ]
     },
     "execution_count": 23,
     "metadata": {},
     "output_type": "execute_result"
    }
   ],
   "source": [
    "pca.fit_transform(xd)"
   ]
  },
  {
   "cell_type": "code",
   "execution_count": 21,
   "metadata": {},
   "outputs": [],
   "source": [
    "#print(pca.explained_variance_ratio_[:10])\n",
    "#print(pca.score)\n",
    "#pca.get_precision()"
   ]
  },
  {
   "cell_type": "code",
   "execution_count": 24,
   "metadata": {},
   "outputs": [
    {
     "data": {
      "image/png": "[encoded data removed]",
      "text/plain": [
       "<matplotlib.figure.Figure at 0x7f6bea543ac8>"
      ]
     },
     "metadata": {},
     "output_type": "display_data"
    },
    {
     "name": "stdout",
     "output_type": "stream",
     "text": [
      "(1000, 784)\n"
     ]
    }
   ],
   "source": [
    "plt.figure(0)\n",
    "plt.grid(\"off\")\n",
    "#im = (databack[n]>0) * databack[n]\n",
    "plt.imshow(xd[n].reshape((28,28)))\n",
    "plt.show()\n",
    "print(xd.shape)"
   ]
  },
  {
   "cell_type": "code",
   "execution_count": null,
   "metadata": {
    "collapsed": true
   },
   "outputs": [],
   "source": []
  }
 ],
 "metadata": {
  "kernelspec": {
   "display_name": "Python 3",
   "language": "python",
   "name": "python3"
  },
  "language_info": {
   "codemirror_mode": {
    "name": "ipython",
    "version": 3
   },
   "file_extension": ".py",
   "mimetype": "text/x-python",
   "name": "python",
   "nbconvert_exporter": "python",
   "pygments_lexer": "ipython3",
   "version": "3.5.2"
  }
 },
 "nbformat": 4,
 "nbformat_minor": 2
}
