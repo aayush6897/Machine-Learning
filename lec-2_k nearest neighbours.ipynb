{
 "cells": [
  {
   "cell_type": "code",
   "execution_count": 196,
   "metadata": {},
   "outputs": [],
   "source": [
    "import numpy as np\n",
    "from matplotlib import pyplot as plt\n",
    "%matplotlib inline\n"
   ]
  },
  {
   "cell_type": "code",
   "execution_count": 197,
   "metadata": {},
   "outputs": [
    {
     "name": "stdout",
     "output_type": "stream",
     "text": [
      "(500, 2)\n",
      "[[ 0.90792659  0.1109046 ]\n",
      " [ 0.1109046   1.07798463]]\n"
     ]
    },
    {
     "name": "stderr",
     "output_type": "stream",
     "text": [
      "/home/aayush/.local/lib/python3.5/site-packages/ipykernel_launcher.py:7: RuntimeWarning: covariance is not positive-semidefinite.\n",
      "  import sys\n"
     ]
    }
   ],
   "source": [
    "mean_01=np.array([1,1])\n",
    "cov_01=np.array([[1,0.1],[0,1.2]])\n",
    "\n",
    "mean_02=np.array([4,5])\n",
    "cov_02=np.array([[1,0.1],[0.1,1.2]])\n",
    "\n",
    "dist_01=np.random.multivariate_normal(mean_01,cov_01,500)\n",
    "\n",
    "dist_02=np.random.multivariate_normal(mean_02,cov_02,500)\n",
    "print(dist_01.shape)\n",
    "print(np.cov(dist_01.T))"
   ]
  },
  {
   "cell_type": "code",
   "execution_count": 198,
   "metadata": {},
   "outputs": [
    {
     "data": {
      "image/png": "[encoded data removed]",
      "text/plain": [
       "<matplotlib.figure.Figure at 0x7faf98ee7fd0>"
      ]
     },
     "metadata": {},
     "output_type": "display_data"
    }
   ],
   "source": [
    "plt.figure(0)\n",
    "plt.xlim(-5,10)\n",
    "plt.ylim(-5,10)\n",
    "plt.scatter(dist_01[:,0],dist_01[:,1],color='orange')\n",
    "plt.scatter(dist_02[:,0],dist_02[:,1],color='red')\n",
    "plt.show()"
   ]
  },
  {
   "cell_type": "code",
   "execution_count": 199,
   "metadata": {},
   "outputs": [
    {
     "name": "stdout",
     "output_type": "stream",
     "text": [
      "(1000, 3)\n",
      "[[ 0.32345182  0.39576908  0.        ]\n",
      " [ 0.58313493  0.74915448  0.        ]\n",
      " [ 0.61351392  2.11614948  0.        ]\n",
      " ..., \n",
      " [ 4.75014234  4.14036132  1.        ]\n",
      " [ 5.94620581  4.8868242   1.        ]\n",
      " [ 4.33641226  4.20794778  1.        ]]\n",
      "[ 2.46743856  3.01990205  0.5       ]\n"
     ]
    }
   ],
   "source": [
    "r=dist_01.shape[0]+dist_02.shape[0]\n",
    "c=dist_01.shape[1]+1\n",
    "data=np.zeros((r,c))\n",
    "print(data.shape)\n",
    "data[:dist_01.shape[0],:2]=dist_01\n",
    "data[dist_01.shape[0]:,:2]=dist_02\n",
    "data[dist_01.shape[0]:,-1]=1.0\n",
    "print(data)\n",
    "print(data.mean(axis=0))"
   ]
  },
  {
   "cell_type": "code",
   "execution_count": 200,
   "metadata": {},
   "outputs": [
    {
     "name": "stdout",
     "output_type": "stream",
     "text": [
      "[[ 2.72916054  2.38027229  0.        ]\n",
      " [ 4.18435829  4.68210849  1.        ]\n",
      " [ 4.22008578  4.47206501  1.        ]\n",
      " [ 5.14982184  7.60906061  1.        ]\n",
      " [ 0.55735328 -0.70750935  0.        ]\n",
      " [ 4.24916503  5.4928447   1.        ]\n",
      " [ 1.64700912  0.7780911   0.        ]\n",
      " [ 3.13494228  4.10127886  1.        ]\n",
      " [ 0.67218256  0.78043664  0.        ]\n",
      " [ 2.10693544  0.58560112  0.        ]]\n"
     ]
    }
   ],
   "source": [
    "np.random.shuffle(data)\n",
    "print(data[0:10])"
   ]
  },
  {
   "cell_type": "code",
   "execution_count": 201,
   "metadata": {},
   "outputs": [],
   "source": [
    "def distance(x1,x2):\n",
    "    d=np.sqrt(((x1-x2)**2).sum())\n",
    "    return d\n",
    "def knn(X_train,Y_train,xt,k=5):\n",
    "    vals=[]\n",
    "    for ix in range(X_train.shape[0]):\n",
    "        d=distance(X_train[ix],xt)\n",
    "        vals.append([d,Y_train[ix]])\n",
    "    sorted_labels=sorted(vals,key=lambda z: z[0])\n",
    "    neighbours=np.asarray(sorted_labels)[:k,-1]\n",
    "    freq=np.unique(neighbours,return_counts=True)\n",
    "    return freq[0][freq[1].argmax()]"
   ]
  },
  {
   "cell_type": "code",
   "execution_count": 202,
   "metadata": {},
   "outputs": [
    {
     "name": "stdout",
     "output_type": "stream",
     "text": [
      "0.0\n"
     ]
    }
   ],
   "source": [
    "test_point=np.array([3,2])\n",
    "\n",
    "print(knn(data[:,:2],data[:,-1],test_point))"
   ]
  },
  {
   "cell_type": "code",
   "execution_count": 203,
   "metadata": {},
   "outputs": [
    {
     "name": "stdout",
     "output_type": "stream",
     "text": [
      "(750, 2) (750,)\n",
      "(250, 2) (250,)\n"
     ]
    }
   ],
   "source": [
    "split=int(.75*data.shape[0])\n",
    "\n",
    "train_data_X=data[:split,:2]\n",
    "train_data_Y=data[:split,-1]\n",
    "test_data_X=data[split:,:2]\n",
    "test_data_Y=data[split:,-1]\n",
    "\n",
    "print(train_data_X.shape,train_data_Y.shape)\n",
    "print(test_data_X.shape,test_data_Y.shape)"
   ]
  },
  {
   "cell_type": "code",
   "execution_count": 204,
   "metadata": {},
   "outputs": [
    {
     "name": "stdout",
     "output_type": "stream",
     "text": [
      "(250,)\n"
     ]
    }
   ],
   "source": [
    "preds=[]\n",
    "\n",
    "for ix in range(test_data_X.shape[0]):\n",
    "    preds.append(knn(train_data_X,train_data_Y,test_data_X[ix]))\n",
    "preds=np.asarray(preds)\n",
    "\n",
    "print(preds.shape)"
   ]
  },
  {
   "cell_type": "code",
   "execution_count": 205,
   "metadata": {},
   "outputs": [
    {
     "data": {
      "text/plain": [
       "98.8"
      ]
     },
     "execution_count": 205,
     "metadata": {},
     "output_type": "execute_result"
    }
   ],
   "source": [
    "100*float((test_data_Y == preds).sum())/preds.shape[0]"
   ]
  },
  {
   "cell_type": "code",
   "execution_count": null,
   "metadata": {
    "collapsed": true
   },
   "outputs": [],
   "source": []
  },
  {
   "cell_type": "code",
   "execution_count": null,
   "metadata": {
    "collapsed": true
   },
   "outputs": [],
   "source": []
  },
  {
   "cell_type": "code",
   "execution_count": null,
   "metadata": {
    "collapsed": true
   },
   "outputs": [],
   "source": []
  },
  {
   "cell_type": "code",
   "execution_count": null,
   "metadata": {
    "collapsed": true
   },
   "outputs": [],
   "source": []
  }
 ],
 "metadata": {
  "kernelspec": {
   "display_name": "Python 3",
   "language": "python",
   "name": "python3"
  },
  "language_info": {
   "codemirror_mode": {
    "name": "ipython",
    "version": 3
   },
   "file_extension": ".py",
   "mimetype": "text/x-python",
   "name": "python",
   "nbconvert_exporter": "python",
   "pygments_lexer": "ipython3",
   "version": "3.5.2"
  }
 },
 "nbformat": 4,
 "nbformat_minor": 2
}
