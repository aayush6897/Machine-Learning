{
 "cells": [
  {
   "cell_type": "code",
   "execution_count": 13,
   "metadata": {
    "collapsed": true
   },
   "outputs": [],
   "source": [
    "import numpy as np\n",
    "from matplotlib import pyplot as plt\n",
    "%matplotlib inline"
   ]
  },
  {
   "cell_type": "code",
   "execution_count": 14,
   "metadata": {},
   "outputs": [
    {
     "name": "stdout",
     "output_type": "stream",
     "text": [
      "(500, 2)\n",
      "[[ 1.01250126  0.13020627]\n",
      " [ 0.13020627  1.20022297]]\n"
     ]
    },
    {
     "name": "stderr",
     "output_type": "stream",
     "text": [
      "/home/aayush/.local/lib/python3.5/site-packages/ipykernel_launcher.py:7: RuntimeWarning: covariance is not positive-semidefinite.\n",
      "  import sys\n"
     ]
    }
   ],
   "source": [
    "mean_01=np.array([1,1])\n",
    "cov_01=np.array([[1,0.1],[0,1.2]])\n",
    "\n",
    "mean_02=np.array([8,8])\n",
    "cov_02=np.array([[1,0.1],[0.1,1.2]])\n",
    "\n",
    "dist_01=np.random.multivariate_normal(mean_01,cov_01,500)\n",
    "\n",
    "dist_02=np.random.multivariate_normal(mean_02,cov_02,500)\n",
    "print(dist_01.shape)\n",
    "print(np.cov(dist_01.T))"
   ]
  },
  {
   "cell_type": "code",
   "execution_count": 15,
   "metadata": {},
   "outputs": [
    {
     "data": {
      "image/png": "[encoded data removed]",
      "text/plain": [
       "<matplotlib.figure.Figure at 0x7f36e56719b0>"
      ]
     },
     "metadata": {},
     "output_type": "display_data"
    }
   ],
   "source": [
    "plt.figure(0)\n",
    "plt.xlim(-5,10)\n",
    "plt.ylim(-5,10)\n",
    "plt.scatter(dist_01[:,0],dist_01[:,1],color='orange')\n",
    "plt.scatter(dist_02[:,0],dist_02[:,1],color='red')\n",
    "plt.show()"
   ]
  },
  {
   "cell_type": "code",
   "execution_count": 16,
   "metadata": {},
   "outputs": [
    {
     "name": "stdout",
     "output_type": "stream",
     "text": [
      "(1000, 3)\n",
      "[[ 1.69036496 -0.12791226  0.        ]\n",
      " [ 1.66896551  0.5882741   0.        ]\n",
      " [ 1.01875396  1.11915883  0.        ]\n",
      " ..., \n",
      " [ 6.06131018  7.25834305  1.        ]\n",
      " [ 9.32567543  8.44272255  1.        ]\n",
      " [ 8.30229464  7.20648649  1.        ]]\n",
      "[ 4.45479241  4.52818408  0.5       ]\n"
     ]
    }
   ],
   "source": [
    "r=dist_01.shape[0]+dist_02.shape[0]\n",
    "c=dist_01.shape[1]+1\n",
    "data=np.zeros((r,c))\n",
    "print(data.shape)\n",
    "data[:dist_01.shape[0],:2]=dist_01\n",
    "data[dist_01.shape[0]:,:2]=dist_02\n",
    "data[dist_01.shape[0]:,-1]=1.0\n",
    "print(data)\n",
    "print(data.mean(axis=0))"
   ]
  },
  {
   "cell_type": "code",
   "execution_count": 17,
   "metadata": {},
   "outputs": [
    {
     "name": "stdout",
     "output_type": "stream",
     "text": [
      "[[ 1.05070501  2.58153385  0.        ]\n",
      " [-0.7843063   1.93723195  0.        ]\n",
      " [ 8.69962013  8.98798691  1.        ]\n",
      " [ 1.64822829  1.76786955  0.        ]\n",
      " [-0.18139323  1.03200053  0.        ]\n",
      " [ 0.72143411 -0.11515978  0.        ]\n",
      " [ 8.00592529  7.40376041  1.        ]\n",
      " [-0.05801089 -0.47447908  0.        ]\n",
      " [-0.10686822  0.66106873  0.        ]\n",
      " [ 8.44089568  6.26900314  1.        ]]\n"
     ]
    }
   ],
   "source": [
    "np.random.shuffle(data)\n",
    "print(data[0:10])"
   ]
  },
  {
   "cell_type": "code",
   "execution_count": 18,
   "metadata": {
    "collapsed": true
   },
   "outputs": [],
   "source": [
    "def distance(x1,x2):\n",
    "    d=np.sqrt(((x1-x2)**2).sum())\n",
    "    return d\n",
    "def knn(X_train,Y_train,xt,k=5):\n",
    "    vals=[]\n",
    "    for ix in range(X_train.shape[0]):\n",
    "        d=distance(X_train[ix],xt)\n",
    "        vals.append([d,Y_train[ix]])\n",
    "    sorted_labels=sorted(vals,key=lambda z: z[0])\n",
    "    neighbours=np.asarray(sorted_labels)[:k,-1]\n",
    "    freq=np.unique(neighbours,return_counts=True)\n",
    "    return freq[0][freq[1].argmax()]"
   ]
  },
  {
   "cell_type": "code",
   "execution_count": 19,
   "metadata": {},
   "outputs": [
    {
     "name": "stdout",
     "output_type": "stream",
     "text": [
      "0.0\n"
     ]
    }
   ],
   "source": [
    "test_point=np.array([3,2])\n",
    "\n",
    "print(knn(data[:,:2],data[:,-1],test_point))"
   ]
  },
  {
   "cell_type": "code",
   "execution_count": 20,
   "metadata": {},
   "outputs": [
    {
     "name": "stdout",
     "output_type": "stream",
     "text": [
      "(750, 2) (750,)\n",
      "(250, 2) (250,)\n"
     ]
    }
   ],
   "source": [
    "split=int(.75*data.shape[0])\n",
    "\n",
    "train_data_X=data[:split,:2]\n",
    "train_data_Y=data[:split,-1]\n",
    "test_data_X=data[split:,:2]\n",
    "test_data_Y=data[split:,-1]\n",
    "\n",
    "print(train_data_X.shape,train_data_Y.shape)\n",
    "print(test_data_X.shape,test_data_Y.shape)"
   ]
  },
  {
   "cell_type": "code",
   "execution_count": 21,
   "metadata": {
    "scrolled": true
   },
   "outputs": [
    {
     "name": "stdout",
     "output_type": "stream",
     "text": [
      "(250,)\n"
     ]
    }
   ],
   "source": [
    "preds=[]\n",
    "\n",
    "for ix in range(test_data_X.shape[0]):\n",
    "    preds.append(knn(train_data_X,train_data_Y,test_data_X[ix]))\n",
    "preds=np.asarray(preds)\n",
    "\n",
    "print(preds.shape)"
   ]
  },
  {
   "cell_type": "code",
   "execution_count": 22,
   "metadata": {},
   "outputs": [
    {
     "data": {
      "text/plain": [
       "100.0"
      ]
     },
     "execution_count": 22,
     "metadata": {},
     "output_type": "execute_result"
    }
   ],
   "source": [
    "100*float((test_data_Y == preds).sum())/preds.shape[0]"
   ]
  },
  {
   "cell_type": "code",
   "execution_count": null,
   "metadata": {
    "collapsed": true
   },
   "outputs": [],
   "source": []
  },
  {
   "cell_type": "code",
   "execution_count": null,
   "metadata": {
    "collapsed": true
   },
   "outputs": [],
   "source": []
  },
  {
   "cell_type": "code",
   "execution_count": null,
   "metadata": {
    "collapsed": true
   },
   "outputs": [],
   "source": []
  },
  {
   "cell_type": "code",
   "execution_count": null,
   "metadata": {
    "collapsed": true
   },
   "outputs": [],
   "source": []
  },
  {
   "cell_type": "code",
   "execution_count": null,
   "metadata": {
    "collapsed": true
   },
   "outputs": [],
   "source": []
  },
  {
   "cell_type": "code",
   "execution_count": null,
   "metadata": {
    "collapsed": true
   },
   "outputs": [],
   "source": []
  },
  {
   "cell_type": "code",
   "execution_count": null,
   "metadata": {
    "collapsed": true
   },
   "outputs": [],
   "source": []
  }
 ],
 "metadata": {
  "kernelspec": {
   "display_name": "Python 3",
   "language": "python",
   "name": "python3"
  },
  "language_info": {
   "codemirror_mode": {
    "name": "ipython",
    "version": 3
   },
   "file_extension": ".py",
   "mimetype": "text/x-python",
   "name": "python",
   "nbconvert_exporter": "python",
   "pygments_lexer": "ipython3",
   "version": "3.5.2"
  }
 },
 "nbformat": 4,
 "nbformat_minor": 2
}
