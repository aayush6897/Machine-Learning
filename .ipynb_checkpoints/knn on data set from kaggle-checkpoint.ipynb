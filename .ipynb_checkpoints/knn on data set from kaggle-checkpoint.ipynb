{
 "cells": [
  {
   "cell_type": "code",
   "execution_count": 55,
   "metadata": {
    "collapsed": true
   },
   "outputs": [],
   "source": [
    "import numpy as np\n",
    "from matplotlib import pyplot as plt\n",
    "%matplotlib inline"
   ]
  },
  {
   "cell_type": "code",
   "execution_count": 56,
   "metadata": {
    "collapsed": true
   },
   "outputs": [],
   "source": [
    "import pandas as pd"
   ]
  },
  {
   "cell_type": "code",
   "execution_count": 57,
   "metadata": {},
   "outputs": [
    {
     "data": {
      "text/html": [
       "<div>\n",
       "<style>\n",
       "    .dataframe thead tr:only-child th {\n",
       "        text-align: right;\n",
       "    }\n",
       "\n",
       "    .dataframe thead th {\n",
       "        text-align: left;\n",
       "    }\n",
       "\n",
       "    .dataframe tbody tr th {\n",
       "        vertical-align: top;\n",
       "    }\n",
       "</style>\n",
       "<table border=\"1\" class=\"dataframe\">\n",
       "  <thead>\n",
       "    <tr style=\"text-align: right;\">\n",
       "      <th></th>\n",
       "      <th>label</th>\n",
       "      <th>v1_x</th>\n",
       "      <th>v1_y</th>\n",
       "      <th>v2_x</th>\n",
       "      <th>v2_y</th>\n",
       "      <th>v3_x</th>\n",
       "      <th>v3_y</th>\n",
       "      <th>v4_x</th>\n",
       "      <th>v4_y</th>\n",
       "      <th>v5_x</th>\n",
       "      <th>...</th>\n",
       "      <th>v16_x</th>\n",
       "      <th>v16_y</th>\n",
       "      <th>v17_x</th>\n",
       "      <th>v17_y</th>\n",
       "      <th>v18_x</th>\n",
       "      <th>v18_y</th>\n",
       "      <th>v19_x</th>\n",
       "      <th>v19_y</th>\n",
       "      <th>v20_x</th>\n",
       "      <th>v20_y</th>\n",
       "    </tr>\n",
       "  </thead>\n",
       "  <tbody>\n",
       "    <tr>\n",
       "      <th>0</th>\n",
       "      <td>2</td>\n",
       "      <td>0</td>\n",
       "      <td>0</td>\n",
       "      <td>-2</td>\n",
       "      <td>-4</td>\n",
       "      <td>4</td>\n",
       "      <td>-3</td>\n",
       "      <td>7</td>\n",
       "      <td>-3</td>\n",
       "      <td>5</td>\n",
       "      <td>...</td>\n",
       "      <td>6</td>\n",
       "      <td>-1</td>\n",
       "      <td>5</td>\n",
       "      <td>-1</td>\n",
       "      <td>4</td>\n",
       "      <td>0</td>\n",
       "      <td>3</td>\n",
       "      <td>0</td>\n",
       "      <td>1</td>\n",
       "      <td>0</td>\n",
       "    </tr>\n",
       "    <tr>\n",
       "      <th>1</th>\n",
       "      <td>5</td>\n",
       "      <td>0</td>\n",
       "      <td>0</td>\n",
       "      <td>1</td>\n",
       "      <td>6</td>\n",
       "      <td>0</td>\n",
       "      <td>5</td>\n",
       "      <td>0</td>\n",
       "      <td>1</td>\n",
       "      <td>0</td>\n",
       "      <td>...</td>\n",
       "      <td>0</td>\n",
       "      <td>0</td>\n",
       "      <td>0</td>\n",
       "      <td>0</td>\n",
       "      <td>2</td>\n",
       "      <td>0</td>\n",
       "      <td>8</td>\n",
       "      <td>0</td>\n",
       "      <td>4</td>\n",
       "      <td>-2</td>\n",
       "    </tr>\n",
       "    <tr>\n",
       "      <th>2</th>\n",
       "      <td>1</td>\n",
       "      <td>0</td>\n",
       "      <td>0</td>\n",
       "      <td>1</td>\n",
       "      <td>-1</td>\n",
       "      <td>3</td>\n",
       "      <td>-3</td>\n",
       "      <td>5</td>\n",
       "      <td>-5</td>\n",
       "      <td>6</td>\n",
       "      <td>...</td>\n",
       "      <td>-1</td>\n",
       "      <td>7</td>\n",
       "      <td>0</td>\n",
       "      <td>6</td>\n",
       "      <td>0</td>\n",
       "      <td>5</td>\n",
       "      <td>0</td>\n",
       "      <td>7</td>\n",
       "      <td>1</td>\n",
       "      <td>1</td>\n",
       "    </tr>\n",
       "    <tr>\n",
       "      <th>3</th>\n",
       "      <td>9</td>\n",
       "      <td>-8</td>\n",
       "      <td>-1</td>\n",
       "      <td>-7</td>\n",
       "      <td>5</td>\n",
       "      <td>-5</td>\n",
       "      <td>5</td>\n",
       "      <td>-1</td>\n",
       "      <td>4</td>\n",
       "      <td>3</td>\n",
       "      <td>...</td>\n",
       "      <td>-3</td>\n",
       "      <td>4</td>\n",
       "      <td>-4</td>\n",
       "      <td>1</td>\n",
       "      <td>-4</td>\n",
       "      <td>0</td>\n",
       "      <td>-2</td>\n",
       "      <td>0</td>\n",
       "      <td>-2</td>\n",
       "      <td>-3</td>\n",
       "    </tr>\n",
       "    <tr>\n",
       "      <th>4</th>\n",
       "      <td>7</td>\n",
       "      <td>6</td>\n",
       "      <td>-1</td>\n",
       "      <td>8</td>\n",
       "      <td>-2</td>\n",
       "      <td>6</td>\n",
       "      <td>-1</td>\n",
       "      <td>3</td>\n",
       "      <td>0</td>\n",
       "      <td>1</td>\n",
       "      <td>...</td>\n",
       "      <td>3</td>\n",
       "      <td>0</td>\n",
       "      <td>5</td>\n",
       "      <td>0</td>\n",
       "      <td>5</td>\n",
       "      <td>0</td>\n",
       "      <td>3</td>\n",
       "      <td>0</td>\n",
       "      <td>2</td>\n",
       "      <td>-1</td>\n",
       "    </tr>\n",
       "  </tbody>\n",
       "</table>\n",
       "<p>5 rows × 41 columns</p>\n",
       "</div>"
      ],
      "text/plain": [
       "   label  v1_x  v1_y  v2_x  v2_y  v3_x  v3_y  v4_x  v4_y  v5_x  ...    v16_x  \\\n",
       "0      2     0     0    -2    -4     4    -3     7    -3     5  ...        6   \n",
       "1      5     0     0     1     6     0     5     0     1     0  ...        0   \n",
       "2      1     0     0     1    -1     3    -3     5    -5     6  ...       -1   \n",
       "3      9    -8    -1    -7     5    -5     5    -1     4     3  ...       -3   \n",
       "4      7     6    -1     8    -2     6    -1     3     0     1  ...        3   \n",
       "\n",
       "   v16_y  v17_x  v17_y  v18_x  v18_y  v19_x  v19_y  v20_x  v20_y  \n",
       "0     -1      5     -1      4      0      3      0      1      0  \n",
       "1      0      0      0      2      0      8      0      4     -2  \n",
       "2      7      0      6      0      5      0      7      1      1  \n",
       "3      4     -4      1     -4      0     -2      0     -2     -3  \n",
       "4      0      5      0      5      0      3      0      2     -1  \n",
       "\n",
       "[5 rows x 41 columns]"
      ]
     },
     "execution_count": 57,
     "metadata": {},
     "output_type": "execute_result"
    }
   ],
   "source": [
    "da=pd.read_csv('/home/aayush/Downloads/training.csv')\n",
    "da.head()"
   ]
  },
  {
   "cell_type": "code",
   "execution_count": 58,
   "metadata": {},
   "outputs": [
    {
     "name": "stdout",
     "output_type": "stream",
     "text": [
      "[[  9  -7  -1  -7   3  -4   6   0   3   2   4   6   0   5  -6   2  -3   1\n",
      "   -3   0  -1   1   1   1   3   3   8   0   8  -2   6  -3   2  -7   2  -5\n",
      "    0  -2   0  -1  -2]\n",
      " [  5   0   1   0   3   0   6   0   3   1   1   3   0   4   0   3   2   3\n",
      "    5   1   4   0   3  -5   3  -5   1  -5   0  -1  -1   0 -30   1   0   5\n",
      "    0   5   0   3  -1]\n",
      " [  5   0   1   0   7   0   5   0   1   1   0   4   0   4   2   2   4   0\n",
      "    6  -3   3  -6   4  -5   1  -3  -1  -1  -4   7 -27   0   0   1   0   5\n",
      "    0   5  -1   3  -2]\n",
      " [  8   0   0  -8  -1  -6   0  -2   6   7   5   7   4   3   3   1   4  -3\n",
      "    6  -5   3  -6   0  -3  -3   0  -4   1  -3   4  -4   4  -5   3  -5   1\n",
      "   -4  -2  -1  -1  -2]\n",
      " [  7   6  -1   8  -1   4  -1   2   0   0   0   0   1  -4   5  -5   8  -4\n",
      "    7  -3   5  -2   4  -1   2   0   1  -1   1   0 -19   3   0   6   0   6\n",
      "    0   4   0   2  -1]\n",
      " [  1   1   0   3  -2   4  -5   5  -6   5  -6   3  -5   2  -4   2  -3   1\n",
      "   -1   0   0   0   0   0   7   0  11   0  12  -1   8  -1   9  -1   5   0\n",
      "    3   0   1  -1   1]\n",
      " [  8  -3  -1  -5   2  -3   3   1   4   4   3   5   3   4   6   1   4   0\n",
      "    4  -3   3  -7   1  -5  -2  -2  -3   2  -5   5  -4   6  -4   4  -5   0\n",
      "   -3  -1  -2  -6  -2]\n",
      " [  5   1   2   0   5   0   4   0   1   1   0   3   0   4   0   3   2   2\n",
      "    4   0   6  -6   6  -5   1  -4   0  -3   0  -1  -3   5 -28   4   0   3\n",
      "   -1   3  -2   2  -2]\n",
      " [  5   0   0   0   5  -1   6  -1   2   0   1   3   0   4   0   3   1   2\n",
      "    2   1   4   0   7  -3   3  -4   2  -4   1  -3   0  -2  -1   8 -31   4\n",
      "    0   4   0   5  -1]\n",
      " [  3   0   0   4  -4   7  -1   6   2   3   7   0   6  -7   4  -4   1  -1\n",
      "    0   2   0   5   1   4   3   3   4   0   4  -2   4  -4   3  -8   2  -5\n",
      "    0  -4  -2  -4  -6]]\n"
     ]
    }
   ],
   "source": [
    "da=np.asarray(da)\n",
    "np.random.shuffle(da)\n",
    "print(da[:10])"
   ]
  },
  {
   "cell_type": "code",
   "execution_count": 59,
   "metadata": {},
   "outputs": [
    {
     "name": "stdout",
     "output_type": "stream",
     "text": [
      "(80, 40)\n"
     ]
    }
   ],
   "source": [
    "split=int(0.8 * da.shape[0])\n",
    "\n",
    "xtrain=da[:split,1:]\n",
    "xtest=da[split:,1:]\n",
    "\n",
    "ytrain=da[:split,0]\n",
    "ytest=da[split:,0]\n",
    "\n",
    "print(xtest.shape)"
   ]
  },
  {
   "cell_type": "code",
   "execution_count": 60,
   "metadata": {},
   "outputs": [],
   "source": [
    "def dist(x1,x2):\n",
    "    d=np.sqrt(((x1-x2)**2).sum())\n",
    "    return d\n",
    "\n",
    "def knearn(xtrain,ytrain,xtest,k=5):\n",
    "    vals=[]\n",
    "    for i in range(xtrain.shape[0]):\n",
    "        d=dist(xtrain[i],xtest)\n",
    "        vals.append([d,ytrain[i]])\n",
    "    sortedd=sorted(vals,key=lambda x:x[0])\n",
    "    sortedd=np.asarray(sortedd)\n",
    "    neigh=sortedd[:k,-1]\n",
    "    freq=np.unique(neigh,return_counts=True)\n",
    "    return(freq[0][freq[1].argmax()])"
   ]
  },
  {
   "cell_type": "code",
   "execution_count": 61,
   "metadata": {},
   "outputs": [
    {
     "name": "stdout",
     "output_type": "stream",
     "text": [
      "True\n",
      "True\n",
      "True\n",
      "True\n",
      "True\n",
      "True\n",
      "True\n",
      "True\n",
      "True\n",
      "True\n",
      "True\n",
      "True\n",
      "True\n",
      "True\n",
      "True\n",
      "True\n",
      "True\n",
      "True\n",
      "True\n",
      "True\n",
      "True\n",
      "True\n",
      "True\n",
      "True\n",
      "True\n",
      "True\n",
      "True\n",
      "True\n",
      "True\n",
      "True\n",
      "True\n",
      "True\n",
      "True\n",
      "True\n",
      "True\n",
      "True\n",
      "True\n",
      "True\n",
      "True\n",
      "True\n",
      "True\n",
      "True\n",
      "True\n",
      "True\n",
      "True\n",
      "True\n",
      "True\n",
      "True\n",
      "True\n",
      "True\n",
      "True\n",
      "True\n",
      "True\n",
      "True\n",
      "True\n",
      "True\n",
      "True\n",
      "True\n",
      "True\n",
      "True\n",
      "True\n",
      "True\n",
      "True\n",
      "True\n",
      "True\n",
      "True\n",
      "True\n",
      "True\n",
      "True\n",
      "True\n",
      "True\n",
      "True\n",
      "True\n",
      "True\n",
      "True\n",
      "True\n",
      "True\n",
      "True\n",
      "True\n",
      "True\n",
      "100.0\n"
     ]
    }
   ],
   "source": [
    "def gacc(kx):\n",
    "    pred=[]\n",
    "    for iac in range(xtest.shape[0]):\n",
    "        pred.append(knearn(xtrain,ytrain,xtest[iac],kx))\n",
    "    pred=np.asarray(pred)\n",
    "    for ig in range(pred.shape[0]):\n",
    "        if(pred[ig]==ytest[ig]):\n",
    "            print(\"True\")\n",
    "        else:\n",
    "            print(\"False\")\n",
    "    return 100*float((ytest == pred).sum())/pred.shape[0]\n",
    "print(gacc(5))\n",
    "        "
   ]
  },
  {
   "cell_type": "code",
   "execution_count": null,
   "metadata": {
    "collapsed": true
   },
   "outputs": [],
   "source": []
  },
  {
   "cell_type": "code",
   "execution_count": null,
   "metadata": {
    "collapsed": true
   },
   "outputs": [],
   "source": []
  },
  {
   "cell_type": "code",
   "execution_count": null,
   "metadata": {
    "collapsed": true
   },
   "outputs": [],
   "source": []
  },
  {
   "cell_type": "code",
   "execution_count": null,
   "metadata": {
    "collapsed": true
   },
   "outputs": [],
   "source": []
  },
  {
   "cell_type": "code",
   "execution_count": null,
   "metadata": {
    "collapsed": true
   },
   "outputs": [],
   "source": []
  },
  {
   "cell_type": "code",
   "execution_count": null,
   "metadata": {
    "collapsed": true
   },
   "outputs": [],
   "source": []
  },
  {
   "cell_type": "code",
   "execution_count": null,
   "metadata": {
    "collapsed": true
   },
   "outputs": [],
   "source": []
  },
  {
   "cell_type": "code",
   "execution_count": null,
   "metadata": {
    "collapsed": true
   },
   "outputs": [],
   "source": []
  },
  {
   "cell_type": "code",
   "execution_count": null,
   "metadata": {
    "collapsed": true
   },
   "outputs": [],
   "source": []
  },
  {
   "cell_type": "code",
   "execution_count": null,
   "metadata": {
    "collapsed": true
   },
   "outputs": [],
   "source": []
  },
  {
   "cell_type": "code",
   "execution_count": null,
   "metadata": {
    "collapsed": true
   },
   "outputs": [],
   "source": []
  },
  {
   "cell_type": "code",
   "execution_count": null,
   "metadata": {
    "collapsed": true
   },
   "outputs": [],
   "source": []
  },
  {
   "cell_type": "code",
   "execution_count": null,
   "metadata": {
    "collapsed": true
   },
   "outputs": [],
   "source": []
  },
  {
   "cell_type": "code",
   "execution_count": null,
   "metadata": {
    "collapsed": true
   },
   "outputs": [],
   "source": []
  },
  {
   "cell_type": "code",
   "execution_count": null,
   "metadata": {
    "collapsed": true
   },
   "outputs": [],
   "source": []
  }
 ],
 "metadata": {
  "kernelspec": {
   "display_name": "Python 3",
   "language": "python",
   "name": "python3"
  },
  "language_info": {
   "codemirror_mode": {
    "name": "ipython",
    "version": 3
   },
   "file_extension": ".py",
   "mimetype": "text/x-python",
   "name": "python",
   "nbconvert_exporter": "python",
   "pygments_lexer": "ipython3",
   "version": "3.5.2"
  }
 },
 "nbformat": 4,
 "nbformat_minor": 2
}
