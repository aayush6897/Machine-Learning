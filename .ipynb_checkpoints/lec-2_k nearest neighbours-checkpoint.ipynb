{
 "cells": [
  {
   "cell_type": "code",
   "execution_count": 3,
   "metadata": {
    "collapsed": true
   },
   "outputs": [],
   "source": [
    "import numpy as np\n",
    "from matplotlib import pyplot as plt\n",
    "%matplotlib inline\n"
   ]
  },
  {
   "cell_type": "code",
   "execution_count": 4,
   "metadata": {},
   "outputs": [
    {
     "name": "stdout",
     "output_type": "stream",
     "text": [
      "(500, 2)\n",
      "[[ 1.07922021  0.05393731]\n",
      " [ 0.05393731  1.14631236]]\n"
     ]
    },
    {
     "name": "stderr",
     "output_type": "stream",
     "text": [
      "/home/aayush/.local/lib/python3.5/site-packages/ipykernel_launcher.py:7: RuntimeWarning: covariance is not positive-semidefinite.\n",
      "  import sys\n"
     ]
    }
   ],
   "source": [
    "mean_01=np.array([1,1])\n",
    "cov_01=np.array([[1,0.1],[0,1.2]])\n",
    "\n",
    "mean_02=np.array([4,5])\n",
    "cov_02=np.array([[1,0.1],[0.1,1.2]])\n",
    "\n",
    "dist_01=np.random.multivariate_normal(mean_01,cov_01,500)\n",
    "\n",
    "dist_02=np.random.multivariate_normal(mean_02,cov_02,500)\n",
    "print(dist_01.shape)\n",
    "print(np.cov(dist_01.T))"
   ]
  },
  {
   "cell_type": "code",
   "execution_count": 5,
   "metadata": {},
   "outputs": [
    {
     "data": {
      "image/png": "[encoded data removed]",
      "text/plain": [
       "<matplotlib.figure.Figure at 0x7f36e797f128>"
      ]
     },
     "metadata": {},
     "output_type": "display_data"
    }
   ],
   "source": [
    "plt.figure(0)\n",
    "plt.xlim(-5,10)\n",
    "plt.ylim(-5,10)\n",
    "plt.scatter(dist_01[:,0],dist_01[:,1],color='orange')\n",
    "plt.scatter(dist_02[:,0],dist_02[:,1],color='red')\n",
    "plt.show()"
   ]
  },
  {
   "cell_type": "code",
   "execution_count": 6,
   "metadata": {},
   "outputs": [
    {
     "name": "stdout",
     "output_type": "stream",
     "text": [
      "(1000, 3)\n",
      "[[ 1.66284654  0.57020662  0.        ]\n",
      " [ 1.85568988  1.50807852  0.        ]\n",
      " [ 1.04766894  0.44505255  0.        ]\n",
      " ..., \n",
      " [ 3.63924665  5.38357466  1.        ]\n",
      " [ 4.28905574  5.91722578  1.        ]\n",
      " [ 6.10179984  5.13928857  1.        ]]\n",
      "[ 2.53131432  3.00943384  0.5       ]\n"
     ]
    }
   ],
   "source": [
    "r=dist_01.shape[0]+dist_02.shape[0]\n",
    "c=dist_01.shape[1]+1\n",
    "data=np.zeros((r,c))\n",
    "print(data.shape)\n",
    "data[:dist_01.shape[0],:2]=dist_01\n",
    "data[dist_01.shape[0]:,:2]=dist_02\n",
    "data[dist_01.shape[0]:,-1]=1.0\n",
    "print(data)\n",
    "print(data.mean(axis=0))"
   ]
  },
  {
   "cell_type": "code",
   "execution_count": 7,
   "metadata": {},
   "outputs": [
    {
     "name": "stdout",
     "output_type": "stream",
     "text": [
      "[[ 3.47011962  4.08264429  1.        ]\n",
      " [ 0.77382202 -0.2779997   0.        ]\n",
      " [ 1.44419426  1.85913178  0.        ]\n",
      " [ 0.81806024  0.4364299   0.        ]\n",
      " [ 3.33931388  5.20482268  1.        ]\n",
      " [ 2.04522068  0.45644179  0.        ]\n",
      " [ 3.43546673  5.35832983  1.        ]\n",
      " [ 1.54805638  2.340232    0.        ]\n",
      " [ 1.09697205 -0.76836677  0.        ]\n",
      " [ 2.8460904   3.14466511  1.        ]]\n"
     ]
    }
   ],
   "source": [
    "np.random.shuffle(data)\n",
    "print(data[0:10])"
   ]
  },
  {
   "cell_type": "code",
   "execution_count": 8,
   "metadata": {
    "collapsed": true
   },
   "outputs": [],
   "source": [
    "def distance(x1,x2):\n",
    "    d=np.sqrt(((x1-x2)**2).sum())\n",
    "    return d\n",
    "def knn(X_train,Y_train,xt,k=5):\n",
    "    vals=[]\n",
    "    for ix in range(X_train.shape[0]):\n",
    "        d=distance(X_train[ix],xt)\n",
    "        vals.append([d,Y_train[ix]])\n",
    "    sorted_labels=sorted(vals,key=lambda z: z[0])\n",
    "    neighbours=np.asarray(sorted_labels)[:k,-1]\n",
    "    freq=np.unique(neighbours,return_counts=True)\n",
    "    return freq[0][freq[1].argmax()]"
   ]
  },
  {
   "cell_type": "code",
   "execution_count": 9,
   "metadata": {},
   "outputs": [
    {
     "name": "stdout",
     "output_type": "stream",
     "text": [
      "0.0\n"
     ]
    }
   ],
   "source": [
    "test_point=np.array([3,2])\n",
    "\n",
    "print(knn(data[:,:2],data[:,-1],test_point))"
   ]
  },
  {
   "cell_type": "code",
   "execution_count": 10,
   "metadata": {},
   "outputs": [
    {
     "name": "stdout",
     "output_type": "stream",
     "text": [
      "(750, 2) (750,)\n",
      "(250, 2) (250,)\n"
     ]
    }
   ],
   "source": [
    "split=int(.75*data.shape[0])\n",
    "\n",
    "train_data_X=data[:split,:2]\n",
    "train_data_Y=data[:split,-1]\n",
    "test_data_X=data[split:,:2]\n",
    "test_data_Y=data[split:,-1]\n",
    "\n",
    "print(train_data_X.shape,train_data_Y.shape)\n",
    "print(test_data_X.shape,test_data_Y.shape)"
   ]
  },
  {
   "cell_type": "code",
   "execution_count": 11,
   "metadata": {
    "scrolled": true
   },
   "outputs": [
    {
     "name": "stdout",
     "output_type": "stream",
     "text": [
      "(250,)\n"
     ]
    }
   ],
   "source": [
    "preds=[]\n",
    "\n",
    "for ix in range(test_data_X.shape[0]):\n",
    "    preds.append(knn(train_data_X,train_data_Y,test_data_X[ix]))\n",
    "preds=np.asarray(preds)\n",
    "\n",
    "print(preds.shape)"
   ]
  },
  {
   "cell_type": "code",
   "execution_count": 12,
   "metadata": {},
   "outputs": [
    {
     "data": {
      "text/plain": [
       "98.4"
      ]
     },
     "execution_count": 12,
     "metadata": {},
     "output_type": "execute_result"
    }
   ],
   "source": [
    "100*float((test_data_Y == preds).sum())/preds.shape[0]"
   ]
  },
  {
   "cell_type": "code",
   "execution_count": null,
   "metadata": {
    "collapsed": true
   },
   "outputs": [],
   "source": []
  },
  {
   "cell_type": "code",
   "execution_count": null,
   "metadata": {
    "collapsed": true
   },
   "outputs": [],
   "source": []
  },
  {
   "cell_type": "code",
   "execution_count": null,
   "metadata": {},
   "outputs": [],
   "source": []
  },
  {
   "cell_type": "code",
   "execution_count": null,
   "metadata": {
    "collapsed": true
   },
   "outputs": [],
   "source": []
  },
  {
   "cell_type": "code",
   "execution_count": null,
   "metadata": {
    "collapsed": true
   },
   "outputs": [],
   "source": []
  },
  {
   "cell_type": "code",
   "execution_count": null,
   "metadata": {
    "collapsed": true
   },
   "outputs": [],
   "source": []
  },
  {
   "cell_type": "code",
   "execution_count": null,
   "metadata": {
    "collapsed": true
   },
   "outputs": [],
   "source": []
  }
 ],
 "metadata": {
  "kernelspec": {
   "display_name": "Python 3",
   "language": "python",
   "name": "python3"
  },
  "language_info": {
   "codemirror_mode": {
    "name": "ipython",
    "version": 3
   },
   "file_extension": ".py",
   "mimetype": "text/x-python",
   "name": "python",
   "nbconvert_exporter": "python",
   "pygments_lexer": "ipython3",
   "version": "3.5.2"
  }
 },
 "nbformat": 4,
 "nbformat_minor": 2
}
