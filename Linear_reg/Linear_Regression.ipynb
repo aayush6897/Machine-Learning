{
 "cells": [
  {
   "cell_type": "code",
   "execution_count": 48,
   "metadata": {
    "collapsed": true
   },
   "outputs": [],
   "source": [
    "import numpy as np\n",
    "from matplotlib import pyplot as plt\n",
    "%matplotlib inline\n",
    "import seaborn as sns\n",
    "from sklearn.datasets import make_regression"
   ]
  },
  {
   "cell_type": "code",
   "execution_count": 49,
   "metadata": {},
   "outputs": [
    {
     "name": "stdout",
     "output_type": "stream",
     "text": [
      "(601, 1)\n",
      "(601,)\n",
      "62.93257553679453\n"
     ]
    }
   ],
   "source": [
    "X,y,cof=make_regression(n_samples=601,n_features=1,bias=20,noise=2.1,coef=True)\n",
    "print(X.shape)\n",
    "print(y.shape)\n",
    "print(cof)"
   ]
  },
  {
   "cell_type": "code",
   "execution_count": 50,
   "metadata": {},
   "outputs": [
    {
     "data": {
      "text/plain": [
       "<matplotlib.collections.PathCollection at 0x7fc7fd6a0128>"
      ]
     },
     "execution_count": 50,
     "metadata": {},
     "output_type": "execute_result"
    },
    {
     "data": {
      "image/png": "[encoded data removed]",
      "text/plain": [
       "<matplotlib.figure.Figure at 0x7fc7fd3dfc88>"
      ]
     },
     "metadata": {},
     "output_type": "display_data"
    }
   ],
   "source": [
    "sns.plt.scatter(X[:,0],y)"
   ]
  },
  {
   "cell_type": "code",
   "execution_count": 51,
   "metadata": {},
   "outputs": [
    {
     "name": "stdout",
     "output_type": "stream",
     "text": [
      "(480, 1) (121, 1)\n",
      "(480,) (121,)\n"
     ]
    }
   ],
   "source": [
    "split = int(0.8 * X.shape[0])\n",
    "\n",
    "X_train = X[:split]\n",
    "X_test = X[split:]\n",
    "\n",
    "y_train = y[:split]\n",
    "y_test = y[split:]\n",
    "\n",
    "print (X_train.shape, X_test.shape)\n",
    "print (y_train.shape, y_test.shape)"
   ]
  },
  {
   "cell_type": "code",
   "execution_count": 52,
   "metadata": {
    "collapsed": true
   },
   "outputs": [],
   "source": [
    "def hypo(x,w):\n",
    "    return(x*w[1]+w[0])\n",
    "\n",
    "def error(y_true,x,w):\n",
    "    er=0\n",
    "    \n",
    "    m=x.shape[0]\n",
    "    for i in range(m):\n",
    "        er+=((y_true[i]-hypo(x[i],w))**2)\n",
    "    er/=(2*m)\n",
    "    return er\n",
    "\n",
    "def grad(y_true,x,w):\n",
    "    gr0=0\n",
    "    gr1=0\n",
    "    \n",
    "    m=x.shape[0]\n",
    "    \n",
    "    for i in range(m):\n",
    "        gr0+=(y_true[i]-hypo(x[i],w))*-1\n",
    "        gr1+=(y_true[i]-hypo(x[i],w))*(-1*x[i])\n",
    "    \n",
    "    gr0/=m\n",
    "    gr1/=m\n",
    "    \n",
    "    return [gr0,gr1]\n",
    "\n",
    "def grades(y_true,x,w,lrate=0.1):\n",
    "    eror=error(y_true,x,w)\n",
    "    [gr0,gr1]=grad(y_true,x,w)\n",
    "    \n",
    "    w[0]-=gr0*lrate\n",
    "    w[1]-=gr1*lrate\n",
    "    \n",
    "    return eror,w"
   ]
  },
  {
   "cell_type": "code",
   "execution_count": 57,
   "metadata": {
    "collapsed": true
   },
   "outputs": [],
   "source": [
    "W=np.array([0.1,0.1])\n",
    "loss=[]"
   ]
  },
  {
   "cell_type": "code",
   "execution_count": 59,
   "metadata": {},
   "outputs": [
    {
     "name": "stdout",
     "output_type": "stream",
     "text": [
      "[array([ 2204.16365876]), array([ 1776.35047026]), array([ 1432.2820674]), array([ 1155.45535173]), array([ 932.63851176]), array([ 753.2192793]), array([ 608.68360025]), array([ 492.19852712]), array([ 398.27841743]), array([ 322.51773347]), array([ 261.37709981]), array([ 212.01195761]), array([ 172.13529691]), array([ 139.90765779]), array([ 113.84895761]), array([ 92.76779201]), array([ 75.70472914]), array([ 61.88681271]), array([ 50.69104619]), array([ 41.61507529]), array([ 34.25364134]), array([ 28.27966285]), array([ 23.42902994]), array([ 19.48837821]), array([ 16.28525452]), array([ 13.6802034]), array([ 11.56039659]), array([ 9.83450238]), array([ 8.42855196]), array([ 7.28260736]), array([ 6.34807446]), array([ 5.58553515]), array([ 4.9629975]), array([ 4.45448275]), array([ 4.03888366]), array([ 3.69904165]), array([ 3.4210005]), array([ 3.19340248]), array([ 3.00699947]), array([ 2.85425698]), array([ 2.72903327]), array([ 2.62631917]), array([ 2.542027]), array([ 2.47281922]), array([ 2.41596935]), array([ 2.36924885]), array([ 2.33083521]), array([ 2.29923725]), array([ 2.27323416]), array([ 2.25182603]), array([ 2.23419341]), array([ 2.21966446]), array([ 2.20768802]), array([ 2.19781176]), array([ 2.18966425]), array([ 2.18294038]), array([ 2.17738935]), array([ 2.17280497]), array([ 2.16901759]), array([ 2.1658876]), array([ 2.16330005]), array([ 2.16116026]), array([ 2.15939021]), array([ 2.15792556]), array([ 2.15671328]), array([ 2.15570961]), array([ 2.15487842]), array([ 2.15418989]), array([ 2.15361939]), array([ 2.15314657]), array([ 2.15275463]), array([ 2.15242964]), array([ 2.15216011]), array([ 2.15193654]), array([ 2.15175104]), array([ 2.15159711]), array([ 2.15146935]), array([ 2.15136328]), array([ 2.15127522]), array([ 2.15120209]), array([ 2.15114134]), array([ 2.15109089]), array([ 2.15104897]), array([ 2.15101413]), array([ 2.15098518]), array([ 2.15096112]), array([ 2.15094112]), array([ 2.15092449]), array([ 2.15091066]), array([ 2.15089916]), array([ 2.1508896]), array([ 2.15088165]), array([ 2.15087503]), array([ 2.15086953]), array([ 2.15086495]), array([ 2.15086114]), array([ 2.15085797]), array([ 2.15085533]), array([ 2.15085314]), array([ 2.15085131]), array([ 2.15084979]), array([ 2.15084852]), array([ 2.15084747]), array([ 2.15084659]), array([ 2.15084586]), array([ 2.15084525]), array([ 2.15084475]), array([ 2.15084432]), array([ 2.15084397]), array([ 2.15084368])]\n"
     ]
    }
   ],
   "source": [
    "for i in range(100):\n",
    "    l, W = grades(y_train,X_train, W, lrate=0.1)\n",
    "    loss.append(l)\n",
    "print(loss)"
   ]
  },
  {
   "cell_type": "code",
   "execution_count": 61,
   "metadata": {},
   "outputs": [
    {
     "data": {
      "image/png": "[encoded data removed]",
      "text/plain": [
       "<matplotlib.figure.Figure at 0x7fc7fcf5a3c8>"
      ]
     },
     "metadata": {},
     "output_type": "display_data"
    }
   ],
   "source": [
    "\n",
    "sns.plt.scatter(X[:, 0], y)\n",
    "y_0 = hypo(-3, W)\n",
    "y_1 = hypo(3, W)\n",
    "\n",
    "plt.plot([-3, 3], [y_0, y_1], 'r*-')\n",
    "plt.show()"
   ]
  },
  {
   "cell_type": "code",
   "execution_count": 60,
   "metadata": {},
   "outputs": [
    {
     "data": {
      "text/plain": [
       "[<matplotlib.lines.Line2D at 0x7fc7fd1fb898>]"
      ]
     },
     "execution_count": 60,
     "metadata": {},
     "output_type": "execute_result"
    },
    {
     "data": {
      "image/png": "[encoded data removed]",
      "text/plain": [
       "<matplotlib.figure.Figure at 0x7fc7fcfb3e80>"
      ]
     },
     "metadata": {},
     "output_type": "display_data"
    }
   ],
   "source": [
    "plt.plot(loss)"
   ]
  },
  {
   "cell_type": "code",
   "execution_count": null,
   "metadata": {
    "collapsed": true
   },
   "outputs": [],
   "source": []
  },
  {
   "cell_type": "code",
   "execution_count": null,
   "metadata": {
    "collapsed": true
   },
   "outputs": [],
   "source": []
  },
  {
   "cell_type": "code",
   "execution_count": null,
   "metadata": {
    "collapsed": true
   },
   "outputs": [],
   "source": []
  },
  {
   "cell_type": "code",
   "execution_count": null,
   "metadata": {
    "collapsed": true
   },
   "outputs": [],
   "source": []
  },
  {
   "cell_type": "code",
   "execution_count": null,
   "metadata": {
    "collapsed": true
   },
   "outputs": [],
   "source": []
  },
  {
   "cell_type": "code",
   "execution_count": null,
   "metadata": {
    "collapsed": true
   },
   "outputs": [],
   "source": []
  },
  {
   "cell_type": "code",
   "execution_count": null,
   "metadata": {
    "collapsed": true
   },
   "outputs": [],
   "source": []
  },
  {
   "cell_type": "code",
   "execution_count": null,
   "metadata": {
    "collapsed": true
   },
   "outputs": [],
   "source": []
  },
  {
   "cell_type": "code",
   "execution_count": null,
   "metadata": {
    "collapsed": true
   },
   "outputs": [],
   "source": []
  },
  {
   "cell_type": "code",
   "execution_count": null,
   "metadata": {
    "collapsed": true
   },
   "outputs": [],
   "source": []
  },
  {
   "cell_type": "code",
   "execution_count": null,
   "metadata": {
    "collapsed": true
   },
   "outputs": [],
   "source": []
  },
  {
   "cell_type": "code",
   "execution_count": null,
   "metadata": {
    "collapsed": true
   },
   "outputs": [],
   "source": []
  },
  {
   "cell_type": "code",
   "execution_count": null,
   "metadata": {
    "collapsed": true
   },
   "outputs": [],
   "source": []
  },
  {
   "cell_type": "code",
   "execution_count": null,
   "metadata": {
    "collapsed": true
   },
   "outputs": [],
   "source": []
  },
  {
   "cell_type": "code",
   "execution_count": null,
   "metadata": {
    "collapsed": true
   },
   "outputs": [],
   "source": []
  },
  {
   "cell_type": "code",
   "execution_count": null,
   "metadata": {
    "collapsed": true
   },
   "outputs": [],
   "source": []
  },
  {
   "cell_type": "code",
   "execution_count": null,
   "metadata": {
    "collapsed": true
   },
   "outputs": [],
   "source": []
  },
  {
   "cell_type": "code",
   "execution_count": null,
   "metadata": {
    "collapsed": true
   },
   "outputs": [],
   "source": []
  },
  {
   "cell_type": "code",
   "execution_count": null,
   "metadata": {
    "collapsed": true
   },
   "outputs": [],
   "source": []
  },
  {
   "cell_type": "code",
   "execution_count": null,
   "metadata": {
    "collapsed": true
   },
   "outputs": [],
   "source": []
  }
 ],
 "metadata": {
  "kernelspec": {
   "display_name": "Python 3",
   "language": "python",
   "name": "python3"
  },
  "language_info": {
   "codemirror_mode": {
    "name": "ipython",
    "version": 3
   },
   "file_extension": ".py",
   "mimetype": "text/x-python",
   "name": "python",
   "nbconvert_exporter": "python",
   "pygments_lexer": "ipython3",
   "version": "3.5.2"
  }
 },
 "nbformat": 4,
 "nbformat_minor": 2
}
